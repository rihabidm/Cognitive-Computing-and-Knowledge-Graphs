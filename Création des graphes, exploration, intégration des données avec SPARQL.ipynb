{
 "cells": [
  {
   "cell_type": "code",
   "execution_count": 1,
   "metadata": {},
   "outputs": [],
   "source": [
    "import networkx as nx\n",
    "\n",
    "# Création du graphe\n",
    "G = nx.DiGraph()  # Utilisez un graphe orienté pour représenter les relations\n",
    "\n",
    "# Ajout des nœuds (entités)\n",
    "G.add_node(\"Tom Hanks\", type=\"acteur\")\n",
    "G.add_node(\"Forrest Gump\", type=\"film\")\n",
    "G.add_node(\"Robert Zemeckis\", type=\"réalisateur\")\n",
    "G.add_node(\"La Ligne verte\", type=\"film\")\n",
    "\n",
    "# Ajout des relations (arêtes)\n",
    "G.add_edge(\"Tom Hanks\", \"Forrest Gump\", relation=\"a_joué_dans\")\n",
    "G.add_edge(\"Robert Zemeckis\", \"Forrest Gump\", relation=\"a_réalisé\")\n",
    "G.add_edge(\"Tom Hanks\", \"La Ligne verte\", relation=\"a_joué_dans\")"
   ]
  },
  {
   "cell_type": "code",
   "execution_count": 2,
   "metadata": {},
   "outputs": [
    {
     "name": "stdout",
     "output_type": "stream",
     "text": [
      "('Tom Hanks', {'type': 'acteur'})\n",
      "('Forrest Gump', {'type': 'film'})\n",
      "('Robert Zemeckis', {'type': 'réalisateur'})\n",
      "('La Ligne verte', {'type': 'film'})\n"
     ]
    }
   ],
   "source": [
    "for node in G.nodes(data=True):\n",
    "    print(node)"
   ]
  },
  {
   "cell_type": "code",
   "execution_count": 3,
   "metadata": {},
   "outputs": [
    {
     "name": "stdout",
     "output_type": "stream",
     "text": [
      "('Tom Hanks', 'Forrest Gump', {'relation': 'a_joué_dans'})\n",
      "('Tom Hanks', 'La Ligne verte', {'relation': 'a_joué_dans'})\n",
      "('Robert Zemeckis', 'Forrest Gump', {'relation': 'a_réalisé'})\n"
     ]
    }
   ],
   "source": [
    "for edge in G.edges(data=True):\n",
    "    print(edge)"
   ]
  },
  {
   "cell_type": "code",
   "execution_count": 4,
   "metadata": {},
   "outputs": [
    {
     "name": "stdout",
     "output_type": "stream",
     "text": [
      "Films dans lesquels Tom Hanks a joué : ['Forrest Gump', 'La Ligne verte']\n"
     ]
    }
   ],
   "source": [
    "# 1. Quels sont tous les films dans lesquels Tom Hanks a joué ?\n",
    "films_tom_hanks = [\n",
    "    voisin for voisin in G.neighbors(\"Tom Hanks\")\n",
    "    if G[\"Tom Hanks\"][voisin][\"relation\"] == \"a_joué_dans\"\n",
    "]\n",
    "print(\"Films dans lesquels Tom Hanks a joué :\", films_tom_hanks)"
   ]
  },
  {
   "cell_type": "code",
   "execution_count": 5,
   "metadata": {},
   "outputs": [
    {
     "name": "stdout",
     "output_type": "stream",
     "text": [
      "Réalisateurs de chaque film : {'Forrest Gump': ['Robert Zemeckis'], 'La Ligne verte': []}\n"
     ]
    }
   ],
   "source": [
    "# 2. Qui sont les réalisateurs de chaque film dans lequel Tom Hanks a joué ?\n",
    "realisateurs_par_film = {}\n",
    "for film in films_tom_hanks:\n",
    "    realisateurs = [\n",
    "        voisin for voisin in G.predecessors(film)\n",
    "        if G[voisin][film][\"relation\"] == \"a_réalisé\"\n",
    "    ]\n",
    "    realisateurs_par_film[film] = realisateurs\n",
    "\n",
    "print(\"Réalisateurs de chaque film :\", realisateurs_par_film)"
   ]
  },
  {
   "cell_type": "code",
   "execution_count": 6,
   "metadata": {},
   "outputs": [],
   "source": [
    "# Reprendre le graphe du TP1\n",
    "G = nx.DiGraph()\n",
    "\n",
    "# Ajout des nœuds avec attributs\n",
    "G.add_node(\"Tom Hanks\", type=\"acteur\", nationalité=\"Américain\")\n",
    "G.add_node(\"Forrest Gump\", type=\"film\", date=\"1994\")\n",
    "G.add_node(\"Robert Zemeckis\", type=\"réalisateur\")\n",
    "G.add_node(\"La Ligne verte\", type=\"film\", date=\"1999\")\n",
    "G.add_node(\"Philadelphia\", type=\"film\", date=\"1993\")\n",
    "G.add_node(\"Cast Away\", type=\"film\", date=\"2000\")\n",
    "\n",
    "# Ajout des relations\n",
    "G.add_edge(\"Tom Hanks\", \"Forrest Gump\", relation=\"a_joué_dans\")\n",
    "G.add_edge(\"Robert Zemeckis\", \"Forrest Gump\", relation=\"a_réalisé\")\n",
    "G.add_edge(\"Tom Hanks\", \"La Ligne verte\", relation=\"a_joué_dans\")\n",
    "G.add_edge(\"Tom Hanks\", \"Philadelphia\", relation=\"a_joué_dans\")\n",
    "G.add_edge(\"Tom Hanks\", \"Cast Away\", relation=\"a_joué_dans\")"
   ]
  },
  {
   "cell_type": "code",
   "execution_count": 7,
   "metadata": {},
   "outputs": [
    {
     "ename": "NetworkXNoPath",
     "evalue": "No path between Robert Zemeckis and Cast Away.",
     "output_type": "error",
     "traceback": [
      "\u001b[1;31m---------------------------------------------------------------------------\u001b[0m",
      "\u001b[1;31mNetworkXNoPath\u001b[0m                            Traceback (most recent call last)",
      "Cell \u001b[1;32mIn[7], line 1\u001b[0m\n\u001b[1;32m----> 1\u001b[0m chemin \u001b[38;5;241m=\u001b[39m \u001b[43mnx\u001b[49m\u001b[38;5;241;43m.\u001b[39;49m\u001b[43mshortest_path\u001b[49m\u001b[43m(\u001b[49m\u001b[43mG\u001b[49m\u001b[43m,\u001b[49m\u001b[43m \u001b[49m\u001b[43msource\u001b[49m\u001b[38;5;241;43m=\u001b[39;49m\u001b[38;5;124;43m\"\u001b[39;49m\u001b[38;5;124;43mRobert Zemeckis\u001b[39;49m\u001b[38;5;124;43m\"\u001b[39;49m\u001b[43m,\u001b[49m\u001b[43m \u001b[49m\u001b[43mtarget\u001b[49m\u001b[38;5;241;43m=\u001b[39;49m\u001b[38;5;124;43m\"\u001b[39;49m\u001b[38;5;124;43mCast Away\u001b[39;49m\u001b[38;5;124;43m\"\u001b[39;49m\u001b[43m)\u001b[49m\n\u001b[0;32m      2\u001b[0m \u001b[38;5;28mprint\u001b[39m(\u001b[38;5;124m\"\u001b[39m\u001b[38;5;124mChemin entre Robert Zemeckis et Cast Away :\u001b[39m\u001b[38;5;124m\"\u001b[39m, chemin)\n",
      "File \u001b[1;32mc:\\Users\\Admin\\AppData\\Local\\Programs\\Python\\Python312\\Lib\\site-packages\\networkx\\utils\\decorators.py:789\u001b[0m, in \u001b[0;36margmap.__call__.<locals>.func\u001b[1;34m(_argmap__wrapper, *args, **kwargs)\u001b[0m\n\u001b[0;32m    788\u001b[0m \u001b[38;5;28;01mdef\u001b[39;00m \u001b[38;5;21mfunc\u001b[39m(\u001b[38;5;241m*\u001b[39margs, __wrapper\u001b[38;5;241m=\u001b[39m\u001b[38;5;28;01mNone\u001b[39;00m, \u001b[38;5;241m*\u001b[39m\u001b[38;5;241m*\u001b[39mkwargs):\n\u001b[1;32m--> 789\u001b[0m     \u001b[38;5;28;01mreturn\u001b[39;00m \u001b[43margmap\u001b[49m\u001b[38;5;241;43m.\u001b[39;49m\u001b[43m_lazy_compile\u001b[49m\u001b[43m(\u001b[49m\u001b[43m__wrapper\u001b[49m\u001b[43m)\u001b[49m\u001b[43m(\u001b[49m\u001b[38;5;241;43m*\u001b[39;49m\u001b[43margs\u001b[49m\u001b[43m,\u001b[49m\u001b[43m \u001b[49m\u001b[38;5;241;43m*\u001b[39;49m\u001b[38;5;241;43m*\u001b[39;49m\u001b[43mkwargs\u001b[49m\u001b[43m)\u001b[49m\n",
      "File \u001b[1;32m<class 'networkx.utils.decorators.argmap'> compilation 4:3\u001b[0m, in \u001b[0;36margmap_shortest_path_1\u001b[1;34m(G, source, target, weight, method, backend, **backend_kwargs)\u001b[0m\n\u001b[0;32m      1\u001b[0m \u001b[38;5;28;01mimport\u001b[39;00m \u001b[38;5;21;01mbz2\u001b[39;00m\n\u001b[0;32m      2\u001b[0m \u001b[38;5;28;01mimport\u001b[39;00m \u001b[38;5;21;01mcollections\u001b[39;00m\n\u001b[1;32m----> 3\u001b[0m \u001b[38;5;28;01mimport\u001b[39;00m \u001b[38;5;21;01mgzip\u001b[39;00m\n\u001b[0;32m      4\u001b[0m \u001b[38;5;28;01mimport\u001b[39;00m \u001b[38;5;21;01minspect\u001b[39;00m\n\u001b[0;32m      5\u001b[0m \u001b[38;5;28;01mimport\u001b[39;00m \u001b[38;5;21;01mitertools\u001b[39;00m\n",
      "File \u001b[1;32mc:\\Users\\Admin\\AppData\\Local\\Programs\\Python\\Python312\\Lib\\site-packages\\networkx\\utils\\backends.py:633\u001b[0m, in \u001b[0;36m_dispatchable.__call__\u001b[1;34m(self, backend, *args, **kwargs)\u001b[0m\n\u001b[0;32m    628\u001b[0m \u001b[38;5;250m\u001b[39m\u001b[38;5;124;03m\"\"\"Returns the result of the original function, or the backend function if\u001b[39;00m\n\u001b[0;32m    629\u001b[0m \u001b[38;5;124;03mthe backend is specified and that backend implements `func`.\"\"\"\u001b[39;00m\n\u001b[0;32m    631\u001b[0m \u001b[38;5;28;01mif\u001b[39;00m \u001b[38;5;129;01mnot\u001b[39;00m backends:\n\u001b[0;32m    632\u001b[0m     \u001b[38;5;66;03m# Fast path if no backends are installed\u001b[39;00m\n\u001b[1;32m--> 633\u001b[0m     \u001b[38;5;28;01mreturn\u001b[39;00m \u001b[38;5;28;43mself\u001b[39;49m\u001b[38;5;241;43m.\u001b[39;49m\u001b[43morig_func\u001b[49m\u001b[43m(\u001b[49m\u001b[38;5;241;43m*\u001b[39;49m\u001b[43margs\u001b[49m\u001b[43m,\u001b[49m\u001b[43m \u001b[49m\u001b[38;5;241;43m*\u001b[39;49m\u001b[38;5;241;43m*\u001b[39;49m\u001b[43mkwargs\u001b[49m\u001b[43m)\u001b[49m\n\u001b[0;32m    635\u001b[0m \u001b[38;5;66;03m# Use `backend_name` in this function instead of `backend`\u001b[39;00m\n\u001b[0;32m    636\u001b[0m backend_name \u001b[38;5;241m=\u001b[39m backend\n",
      "File \u001b[1;32mc:\\Users\\Admin\\AppData\\Local\\Programs\\Python\\Python312\\Lib\\site-packages\\networkx\\algorithms\\shortest_paths\\generic.py:182\u001b[0m, in \u001b[0;36mshortest_path\u001b[1;34m(G, source, target, weight, method)\u001b[0m\n\u001b[0;32m    179\u001b[0m \u001b[38;5;28;01melse\u001b[39;00m:\n\u001b[0;32m    180\u001b[0m     \u001b[38;5;66;03m# Find shortest source-target path.\u001b[39;00m\n\u001b[0;32m    181\u001b[0m     \u001b[38;5;28;01mif\u001b[39;00m method \u001b[38;5;241m==\u001b[39m \u001b[38;5;124m\"\u001b[39m\u001b[38;5;124munweighted\u001b[39m\u001b[38;5;124m\"\u001b[39m:\n\u001b[1;32m--> 182\u001b[0m         paths \u001b[38;5;241m=\u001b[39m \u001b[43mnx\u001b[49m\u001b[38;5;241;43m.\u001b[39;49m\u001b[43mbidirectional_shortest_path\u001b[49m\u001b[43m(\u001b[49m\u001b[43mG\u001b[49m\u001b[43m,\u001b[49m\u001b[43m \u001b[49m\u001b[43msource\u001b[49m\u001b[43m,\u001b[49m\u001b[43m \u001b[49m\u001b[43mtarget\u001b[49m\u001b[43m)\u001b[49m\n\u001b[0;32m    183\u001b[0m     \u001b[38;5;28;01melif\u001b[39;00m method \u001b[38;5;241m==\u001b[39m \u001b[38;5;124m\"\u001b[39m\u001b[38;5;124mdijkstra\u001b[39m\u001b[38;5;124m\"\u001b[39m:\n\u001b[0;32m    184\u001b[0m         _, paths \u001b[38;5;241m=\u001b[39m nx\u001b[38;5;241m.\u001b[39mbidirectional_dijkstra(G, source, target, weight)\n",
      "File \u001b[1;32mc:\\Users\\Admin\\AppData\\Local\\Programs\\Python\\Python312\\Lib\\site-packages\\networkx\\utils\\decorators.py:789\u001b[0m, in \u001b[0;36margmap.__call__.<locals>.func\u001b[1;34m(_argmap__wrapper, *args, **kwargs)\u001b[0m\n\u001b[0;32m    788\u001b[0m \u001b[38;5;28;01mdef\u001b[39;00m \u001b[38;5;21mfunc\u001b[39m(\u001b[38;5;241m*\u001b[39margs, __wrapper\u001b[38;5;241m=\u001b[39m\u001b[38;5;28;01mNone\u001b[39;00m, \u001b[38;5;241m*\u001b[39m\u001b[38;5;241m*\u001b[39mkwargs):\n\u001b[1;32m--> 789\u001b[0m     \u001b[38;5;28;01mreturn\u001b[39;00m \u001b[43margmap\u001b[49m\u001b[38;5;241;43m.\u001b[39;49m\u001b[43m_lazy_compile\u001b[49m\u001b[43m(\u001b[49m\u001b[43m__wrapper\u001b[49m\u001b[43m)\u001b[49m\u001b[43m(\u001b[49m\u001b[38;5;241;43m*\u001b[39;49m\u001b[43margs\u001b[49m\u001b[43m,\u001b[49m\u001b[43m \u001b[49m\u001b[38;5;241;43m*\u001b[39;49m\u001b[38;5;241;43m*\u001b[39;49m\u001b[43mkwargs\u001b[49m\u001b[43m)\u001b[49m\n",
      "File \u001b[1;32m<class 'networkx.utils.decorators.argmap'> compilation 8:3\u001b[0m, in \u001b[0;36margmap_bidirectional_shortest_path_5\u001b[1;34m(G, source, target, backend, **backend_kwargs)\u001b[0m\n\u001b[0;32m      1\u001b[0m \u001b[38;5;28;01mimport\u001b[39;00m \u001b[38;5;21;01mbz2\u001b[39;00m\n\u001b[0;32m      2\u001b[0m \u001b[38;5;28;01mimport\u001b[39;00m \u001b[38;5;21;01mcollections\u001b[39;00m\n\u001b[1;32m----> 3\u001b[0m \u001b[38;5;28;01mimport\u001b[39;00m \u001b[38;5;21;01mgzip\u001b[39;00m\n\u001b[0;32m      4\u001b[0m \u001b[38;5;28;01mimport\u001b[39;00m \u001b[38;5;21;01minspect\u001b[39;00m\n\u001b[0;32m      5\u001b[0m \u001b[38;5;28;01mimport\u001b[39;00m \u001b[38;5;21;01mitertools\u001b[39;00m\n",
      "File \u001b[1;32mc:\\Users\\Admin\\AppData\\Local\\Programs\\Python\\Python312\\Lib\\site-packages\\networkx\\utils\\backends.py:633\u001b[0m, in \u001b[0;36m_dispatchable.__call__\u001b[1;34m(self, backend, *args, **kwargs)\u001b[0m\n\u001b[0;32m    628\u001b[0m \u001b[38;5;250m\u001b[39m\u001b[38;5;124;03m\"\"\"Returns the result of the original function, or the backend function if\u001b[39;00m\n\u001b[0;32m    629\u001b[0m \u001b[38;5;124;03mthe backend is specified and that backend implements `func`.\"\"\"\u001b[39;00m\n\u001b[0;32m    631\u001b[0m \u001b[38;5;28;01mif\u001b[39;00m \u001b[38;5;129;01mnot\u001b[39;00m backends:\n\u001b[0;32m    632\u001b[0m     \u001b[38;5;66;03m# Fast path if no backends are installed\u001b[39;00m\n\u001b[1;32m--> 633\u001b[0m     \u001b[38;5;28;01mreturn\u001b[39;00m \u001b[38;5;28;43mself\u001b[39;49m\u001b[38;5;241;43m.\u001b[39;49m\u001b[43morig_func\u001b[49m\u001b[43m(\u001b[49m\u001b[38;5;241;43m*\u001b[39;49m\u001b[43margs\u001b[49m\u001b[43m,\u001b[49m\u001b[43m \u001b[49m\u001b[38;5;241;43m*\u001b[39;49m\u001b[38;5;241;43m*\u001b[39;49m\u001b[43mkwargs\u001b[49m\u001b[43m)\u001b[49m\n\u001b[0;32m    635\u001b[0m \u001b[38;5;66;03m# Use `backend_name` in this function instead of `backend`\u001b[39;00m\n\u001b[0;32m    636\u001b[0m backend_name \u001b[38;5;241m=\u001b[39m backend\n",
      "File \u001b[1;32mc:\\Users\\Admin\\AppData\\Local\\Programs\\Python\\Python312\\Lib\\site-packages\\networkx\\algorithms\\shortest_paths\\unweighted.py:247\u001b[0m, in \u001b[0;36mbidirectional_shortest_path\u001b[1;34m(G, source, target)\u001b[0m\n\u001b[0;32m    244\u001b[0m     \u001b[38;5;28;01mraise\u001b[39;00m nx\u001b[38;5;241m.\u001b[39mNodeNotFound(msg)\n\u001b[0;32m    246\u001b[0m \u001b[38;5;66;03m# call helper to do the real work\u001b[39;00m\n\u001b[1;32m--> 247\u001b[0m results \u001b[38;5;241m=\u001b[39m \u001b[43m_bidirectional_pred_succ\u001b[49m\u001b[43m(\u001b[49m\u001b[43mG\u001b[49m\u001b[43m,\u001b[49m\u001b[43m \u001b[49m\u001b[43msource\u001b[49m\u001b[43m,\u001b[49m\u001b[43m \u001b[49m\u001b[43mtarget\u001b[49m\u001b[43m)\u001b[49m\n\u001b[0;32m    248\u001b[0m pred, succ, w \u001b[38;5;241m=\u001b[39m results\n\u001b[0;32m    250\u001b[0m \u001b[38;5;66;03m# build path from pred+w+succ\u001b[39;00m\n",
      "File \u001b[1;32mc:\\Users\\Admin\\AppData\\Local\\Programs\\Python\\Python312\\Lib\\site-packages\\networkx\\algorithms\\shortest_paths\\unweighted.py:315\u001b[0m, in \u001b[0;36m_bidirectional_pred_succ\u001b[1;34m(G, source, target)\u001b[0m\n\u001b[0;32m    312\u001b[0m                 \u001b[38;5;28;01mif\u001b[39;00m w \u001b[38;5;129;01min\u001b[39;00m pred:  \u001b[38;5;66;03m# found path\u001b[39;00m\n\u001b[0;32m    313\u001b[0m                     \u001b[38;5;28;01mreturn\u001b[39;00m pred, succ, w\n\u001b[1;32m--> 315\u001b[0m \u001b[38;5;28;01mraise\u001b[39;00m nx\u001b[38;5;241m.\u001b[39mNetworkXNoPath(\u001b[38;5;124mf\u001b[39m\u001b[38;5;124m\"\u001b[39m\u001b[38;5;124mNo path between \u001b[39m\u001b[38;5;132;01m{\u001b[39;00msource\u001b[38;5;132;01m}\u001b[39;00m\u001b[38;5;124m and \u001b[39m\u001b[38;5;132;01m{\u001b[39;00mtarget\u001b[38;5;132;01m}\u001b[39;00m\u001b[38;5;124m.\u001b[39m\u001b[38;5;124m\"\u001b[39m)\n",
      "\u001b[1;31mNetworkXNoPath\u001b[0m: No path between Robert Zemeckis and Cast Away."
     ]
    }
   ],
   "source": [
    "chemin = nx.shortest_path(G, source=\"Robert Zemeckis\", target=\"Cast Away\")\n",
    "print(\"Chemin entre Robert Zemeckis et Cast Away :\", chemin)"
   ]
  },
  {
   "cell_type": "code",
   "execution_count": 8,
   "metadata": {},
   "outputs": [
    {
     "name": "stdout",
     "output_type": "stream",
     "text": [
      "Liens indirects entre Tom Hanks et les autres acteurs : {}\n"
     ]
    }
   ],
   "source": [
    "autres_acteurs = [\n",
    "    acteur for acteur in G.nodes()\n",
    "    if G.nodes[acteur].get(\"type\") == \"acteur\" and acteur != \"Tom Hanks\"\n",
    "]\n",
    "\n",
    "liens_indirects = {}\n",
    "for acteur in autres_acteurs:\n",
    "    # Vérifie s'il existe un chemin entre Tom Hanks et l'autre acteur via des films\n",
    "    if nx.has_path(G, \"Tom Hanks\", acteur):\n",
    "        liens_indirects[acteur] = nx.shortest_path(G, \"Tom Hanks\", acteur)\n",
    "\n",
    "print(\"Liens indirects entre Tom Hanks et les autres acteurs :\", liens_indirects)"
   ]
  },
  {
   "cell_type": "code",
   "execution_count": 9,
   "metadata": {},
   "outputs": [
    {
     "data": {
      "image/png": "[encoded data removed]",
      "text/plain": [
       "<Figure size 640x480 with 1 Axes>"
      ]
     },
     "metadata": {},
     "output_type": "display_data"
    }
   ],
   "source": [
    "import matplotlib.pyplot as plt\n",
    "\n",
    "# Dessinez le graphe avec les étiquettes\n",
    "pos = nx.spring_layout(G)\n",
    "nx.draw(G, pos, with_labels=True, node_size=2000, node_color=\"lightblue\", font_size=10, font_weight=\"bold\", arrows=True)\n",
    "edge_labels = nx.get_edge_attributes(G, 'relation')\n",
    "nx.draw_networkx_edge_labels(G, pos, edge_labels=edge_labels)\n",
    "plt.show()"
   ]
  },
  {
   "cell_type": "code",
   "execution_count": 12,
   "metadata": {},
   "outputs": [
    {
     "name": "stdout",
     "output_type": "stream",
     "text": [
      "Films dans lesquels Tom Hanks a joué après 1994 : []\n"
     ]
    }
   ],
   "source": [
    "# 1. Quels sont tous les films dans lesquels Tom Hanks a joué après 1994 ?\n",
    "films_apres_1994 = [\n",
    "    film for film in G.neighbors(\"Tom Hanks\")\n",
    "    if G.nodes[film].get(\"type\") == \"film\" and G.nodes[film].get(\"year\") is not None and G.nodes[film][\"year\"] > 1994\n",
    "]\n",
    "print(\"Films dans lesquels Tom Hanks a joué après 1994 :\", films_apres_1994)"
   ]
  },
  {
   "cell_type": "code",
   "execution_count": 13,
   "metadata": {},
   "outputs": [
    {
     "name": "stdout",
     "output_type": "stream",
     "text": [
      "Réalisateur de chaque film de Tom Hanks : {'Forrest Gump': ['Robert Zemeckis'], 'La Ligne verte': [], 'Philadelphia': [], 'Cast Away': []}\n"
     ]
    }
   ],
   "source": [
    "realisateurs_par_film = {}\n",
    "for film in G.neighbors(\"Tom Hanks\"):\n",
    "    if G.nodes[film].get(\"type\") == \"film\":\n",
    "        realisateurs = [\n",
    "            voisin for voisin in G.predecessors(film)\n",
    "            if G[voisin][film][\"relation\"] == \"a_réalisé\"\n",
    "        ]\n",
    "        realisateurs_par_film[film] = realisateurs\n",
    "\n",
    "print(\"Réalisateur de chaque film de Tom Hanks :\", realisateurs_par_film)"
   ]
  },
  {
   "cell_type": "code",
   "execution_count": 14,
   "metadata": {},
   "outputs": [
    {
     "name": "stdout",
     "output_type": "stream",
     "text": [
      "Le fichier 'films.csv' a été créé avec succès.\n"
     ]
    }
   ],
   "source": [
    "import csv\n",
    "\n",
    "# Données à écrire dans le fichier CSV\n",
    "films = [\n",
    "    {\"Titre\": \"Forrest Gump\", \"Année\": 1994, \"Acteur\": \"Tom Hanks\", \"Réalisateur\": \"Robert Zemeckis\"},\n",
    "    {\"Titre\": \"Philadelphia\", \"Année\": 1993, \"Acteur\": \"Tom Hanks\", \"Réalisateur\": \"Jonathan Demme\"},\n",
    "    {\"Titre\": \"La Ligne verte\", \"Année\": 1999, \"Acteur\": \"Tom Hanks\", \"Réalisateur\": \"Frank Darabont\"},\n",
    "    {\"Titre\": \"Cast Away\", \"Année\": 2000, \"Acteur\": \"Tom Hanks\", \"Réalisateur\": \"Robert Zemeckis\"},\n",
    "    {\"Titre\": \"Inception\", \"Année\": 2010, \"Acteur\": \"Leonardo DiCaprio\", \"Réalisateur\": \"Christopher Nolan\"},\n",
    "]\n",
    "\n",
    "# Création et écriture dans le fichier CSV\n",
    "with open(\"films.csv\", mode=\"w\", newline=\"\", encoding=\"utf-8\") as file:\n",
    "    writer = csv.DictWriter(file, fieldnames=[\"Titre\", \"Année\", \"Acteur\", \"Réalisateur\"])\n",
    "    writer.writeheader()  # Écrit l'en-tête\n",
    "    writer.writerows(films)  # Écrit les lignes de données\n",
    "\n",
    "print(\"Le fichier 'films.csv' a été créé avec succès.\")"
   ]
  },
  {
   "cell_type": "code",
   "execution_count": 15,
   "metadata": {},
   "outputs": [],
   "source": [
    "import pandas as pd\n",
    "from rdflib import Graph, URIRef, Literal, Namespace\n",
    "\n",
    "# Charger les données depuis le fichier CSV\n",
    "df = pd.read_csv('films.csv')\n",
    "\n",
    "# Créer un graphe RDF\n",
    "g = Graph()\n",
    "nsm = Namespace(\"http://example.org/\")\n",
    "\n",
    "# Ajouter les données au graphe RDF\n",
    "for index, row in df.iterrows():\n",
    "    film_uri = URIRef(nsm[row['Titre'].replace(\" \", \"_\")])\n",
    "    g.add((film_uri, nsm[\"titre\"], Literal(row['Titre'])))\n",
    "    g.add((film_uri, nsm[\"année\"], Literal(row['Année'])))\n",
    "    g.add((film_uri, nsm[\"acteur\"], Literal(row['Acteur'])))\n",
    "    g.add((film_uri, nsm[\"réalisateur\"], Literal(row['Réalisateur'])))"
   ]
  },
  {
   "cell_type": "code",
   "execution_count": 16,
   "metadata": {},
   "outputs": [
    {
     "name": "stdout",
     "output_type": "stream",
     "text": [
      "Film: Forrest Gump\n",
      "Film: Cast Away\n"
     ]
    }
   ],
   "source": [
    "query = \"\"\"\n",
    "PREFIX ns: <http://example.org/>\n",
    "SELECT ?film WHERE {\n",
    "    ?film ns:réalisateur \"Robert Zemeckis\" .\n",
    "}\n",
    "\"\"\"\n",
    "\n",
    "results = g.query(query)\n",
    "\n",
    "for row in results:\n",
    "    print(f\"Film: {row[0].split('/')[-1].replace('_', ' ')}\")"
   ]
  },
  {
   "cell_type": "code",
   "execution_count": 20,
   "metadata": {},
   "outputs": [
    {
     "name": "stdout",
     "output_type": "stream",
     "text": [
      "Films joués par Tom Hanks :\n"
     ]
    }
   ],
   "source": [
    "query_films_tom_hanks = \"\"\"\n",
    "PREFIX ns: <http://example.org/>\n",
    "SELECT ?film WHERE {\n",
    "    ?film ns:acteur \"Tom Hanks\" .\n",
    "}\n",
    "\"\"\"\n",
    "\n",
    "results_films_tom_hanks = g.query(query_films_tom_hanks)\n",
    "\n",
    "print(\"Films joués par Tom Hanks :\")"
   ]
  },
  {
   "cell_type": "code",
   "execution_count": 23,
   "metadata": {},
   "outputs": [
    {
     "name": "stdout",
     "output_type": "stream",
     "text": [
      "Aucun résultat trouvé. Vérifiez l'espace de noms et les prédicats utilisés.\n"
     ]
    }
   ],
   "source": [
    "# 2. Trouvez l'année de sortie de tous les films\n",
    "query_annee_sortie = \"\"\"\n",
    "PREFIX ns: <http://example.org/>  # Remplacez par le bon espace de noms\n",
    "SELECT ?film ?annee WHERE {\n",
    "    ?film ns:anneeDeSortie ?annee .  # Assurez-vous que ce prédicat existe dans votre graphe\n",
    "}\n",
    "\"\"\"\n",
    "\n",
    "results_annee_sortie = g.query(query_annee_sortie)\n",
    "\n",
    "# Vérifiez si des résultats sont trouvés\n",
    "if not results_annee_sortie:\n",
    "    print(\"Aucun résultat trouvé. Vérifiez l'espace de noms et les prédicats utilisés.\")\n",
    "else:\n",
    "    print(\"Années de sortie des films :\")\n",
    "    for row in results_annee_sortie:\n",
    "        film = row[0].split('/')[-1].replace('_', ' ')\n",
    "        annee = row[1]\n",
    "        print(f\"Film: {film}, Année: {annee}\")"
   ]
  },
  {
   "cell_type": "code",
   "execution_count": 24,
   "metadata": {},
   "outputs": [
    {
     "name": "stdout",
     "output_type": "stream",
     "text": [
      "Le film le plus ancien dans le graphe :\n"
     ]
    }
   ],
   "source": [
    "query_film_plus_ancien = \"\"\"\n",
    "PREFIX ns: <http://example.org/>  # Remplacez par le bon espace de noms\n",
    "SELECT ?film ?annee\n",
    "WHERE {\n",
    "    ?film ns:anneeDeSortie ?annee .\n",
    "}\n",
    "ORDER BY ASC(?annee)  # Trie les résultats par année croissante\n",
    "LIMIT 1  # Limite à un seul résultat\n",
    "\"\"\"\n",
    "\n",
    "results_film_plus_ancien = g.query(query_film_plus_ancien)\n",
    "\n",
    "print(\"Le film le plus ancien dans le graphe :\")\n",
    "for row in results_film_plus_ancien:\n",
    "    film = row[0].split('/')[-1].replace('_', ' ')\n",
    "    annee = row[1]\n",
    "    print(f\"Film: {film}, Année: {annee}\")"
   ]
  },
  {
   "cell_type": "code",
   "execution_count": 25,
   "metadata": {},
   "outputs": [
    {
     "name": "stdout",
     "output_type": "stream",
     "text": [
      "\n",
      "Réalisateurs qui ont travaillé avec Tom Hanks :\n"
     ]
    }
   ],
   "source": [
    "query_realisateurs_tom_hanks = \"\"\"\n",
    "PREFIX ns: <http://example.org/>  # Remplacez par le bon espace de noms\n",
    "SELECT DISTINCT ?realisateur\n",
    "WHERE {\n",
    "    ?film ns:acteur \"Tom Hanks\" .\n",
    "    ?film ns:realisateur ?realisateur .\n",
    "}\n",
    "\"\"\"\n",
    "\n",
    "results_realisateurs_tom_hanks = g.query(query_realisateurs_tom_hanks)\n",
    "\n",
    "print(\"\\nRéalisateurs qui ont travaillé avec Tom Hanks :\")\n",
    "for row in results_realisateurs_tom_hanks:\n",
    "    realisateur = row[0].split('/')[-1].replace('_', ' ')\n",
    "    print(f\"Réalisateur: {realisateur}\")"
   ]
  }
 ],
 "metadata": {
  "kernelspec": {
   "display_name": "Python 3",
   "language": "python",
   "name": "python3"
  },
  "language_info": {
   "codemirror_mode": {
    "name": "ipython",
    "version": 3
   },
   "file_extension": ".py",
   "mimetype": "text/x-python",
   "name": "python",
   "nbconvert_exporter": "python",
   "pygments_lexer": "ipython3",
   "version": "3.12.3"
  }
 },
 "nbformat": 4,
 "nbformat_minor": 2
}
